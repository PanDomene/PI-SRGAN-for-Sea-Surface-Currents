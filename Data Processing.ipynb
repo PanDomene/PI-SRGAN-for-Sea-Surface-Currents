{
 "cells": [
  {
   "cell_type": "code",
   "execution_count": 1,
   "id": "b6102aa4-f275-4bb1-9ab4-c27cbf4c8f8e",
   "metadata": {},
   "outputs": [],
   "source": [
    "import numpy as np\n",
    "import netCDF4\n",
    "import matplotlib.pyplot as plt\n",
    "import copernicusmarine as cm\n",
    "import tensorflow as tf\n",
    "from SRGAN_funcs import load_and_combine_channels\n",
    "from scipy.ndimage import gaussian_filter\n",
    "from sklearn.preprocessing import StandardScaler\n",
    "import joblib\n",
    "import os"
   ]
  },
  {
   "cell_type": "markdown",
   "id": "2d6fcba5-02cb-4af3-ae7a-8b51fac2dedc",
   "metadata": {},
   "source": [
    "# Load data"
   ]
  },
  {
   "cell_type": "code",
   "execution_count": 2,
   "id": "29f9eb7d-704d-433e-b3a2-fb4c9fc5876f",
   "metadata": {},
   "outputs": [
    {
     "data": {
      "text/plain": [
       "'E:\\\\Documents\\\\MING\\\\Tesis\\\\Proyecto'"
      ]
     },
     "execution_count": 2,
     "metadata": {},
     "output_type": "execute_result"
    }
   ],
   "source": [
    "path = os.getcwd()\n",
    "path"
   ]
  },
  {
   "cell_type": "code",
   "execution_count": 3,
   "id": "8fcdc559-0897-47aa-a9c1-4d9978cf5abb",
   "metadata": {
    "scrolled": true
   },
   "outputs": [],
   "source": [
    "os.makedirs(\"data\", exist_ok=True)\n",
    "\n",
    "def download(start_date, end_date, file_name):\n",
    "    \n",
    "    try:\n",
    "        data = netCDF4.Dataset(f'data/{file_name}.nc', 'r')\n",
    "    except:\n",
    "        cm.subset(\n",
    "            dataset_id=\"cmems_mod_glo_phy_anfc_0.083deg_PT1H-m\",\n",
    "            variables=[\"thetao\", \"uo\", \"vo\", \"zos\"],\n",
    "            minimum_longitude=-96.92524957370406, # west\n",
    "            maximum_longitude=-90.69459354433525, # east\n",
    "            minimum_latitude=20.825606179962158, # south\n",
    "            maximum_latitude=26.883188430737402, # north\n",
    "            start_datetime=start_date,\n",
    "            end_datetime=end_date,\n",
    "            minimum_depth=0.49402499198913574,\n",
    "            maximum_depth=0.49402499198913574,\n",
    "            output_directory='data',\n",
    "            output_filename=f\"{file_name}.nc\", \n",
    "            overwrite=True\n",
    "        )\n",
    "    \n",
    "        data = netCDF4.Dataset(f'data/{file_name}.nc', 'r')\n",
    "\n",
    "    return data"
   ]
  },
  {
   "cell_type": "code",
   "execution_count": 4,
   "id": "12542e53-3a38-468c-80f4-ffa87da83490",
   "metadata": {},
   "outputs": [],
   "source": [
    "data = download(\"2022-06-01T12:00:00\", \"2025-06-01T12:00:00\", \"all_data\")"
   ]
  },
  {
   "cell_type": "code",
   "execution_count": 5,
   "id": "b63fd6a6-ed25-4a4d-a063-b62c088cb127",
   "metadata": {},
   "outputs": [
    {
     "data": {
      "text/plain": [
       "dict_keys(['thetao', 'uo', 'vo', 'zos', 'depth', 'latitude', 'longitude', 'time'])"
      ]
     },
     "execution_count": 5,
     "metadata": {},
     "output_type": "execute_result"
    }
   ],
   "source": [
    "keys = data.variables.keys()\n",
    "keys"
   ]
  },
  {
   "cell_type": "markdown",
   "id": "2cd966e7-4e3d-468f-bb92-d1e0c4498c21",
   "metadata": {},
   "source": [
    "# Extract features"
   ]
  },
  {
   "cell_type": "code",
   "execution_count": 6,
   "id": "4d5b5a6d-425c-4d9d-99c7-a9a4e417c1c4",
   "metadata": {},
   "outputs": [],
   "source": [
    "temp, vx, vy, ssh, _, lat, lng, _ = [np.array(data[var]) for var in data.variables.keys()]"
   ]
  },
  {
   "cell_type": "code",
   "execution_count": 7,
   "id": "fabb163f-fe9e-405e-b6bf-4aacf4cd09b0",
   "metadata": {},
   "outputs": [
    {
     "data": {
      "text/plain": [
       "(26305, 1, 73, 75)"
      ]
     },
     "execution_count": 7,
     "metadata": {},
     "output_type": "execute_result"
    }
   ],
   "source": [
    "vx.shape"
   ]
  },
  {
   "cell_type": "code",
   "execution_count": 8,
   "id": "1e61bfd0-2db4-4933-b89c-f0cfd1e4ea5f",
   "metadata": {},
   "outputs": [],
   "source": [
    "data = {\"temp\": temp, \"vx\": vx, \"vy\": vy, \"ssh\": ssh}"
   ]
  },
  {
   "cell_type": "markdown",
   "id": "bc75d3d3-f0ce-42ed-9ba6-5c2bdf529ce6",
   "metadata": {},
   "source": [
    "# Temporal subsample\n",
    "\n",
    "We keep 1 measurement per day"
   ]
  },
  {
   "cell_type": "code",
   "execution_count": 9,
   "id": "7725bd00-2b7c-47ba-b933-a44b0d7e7af0",
   "metadata": {},
   "outputs": [],
   "source": [
    "# Downsample time\n",
    "for var in data:\n",
    "    arr = data[var][::24]\n",
    "    arr = arr.squeeze(axis=1) # remove extra axis\n",
    "    data[var] = arr"
   ]
  },
  {
   "cell_type": "markdown",
   "id": "d65a8909-89b8-4e96-804e-2f44bf3eb77c",
   "metadata": {},
   "source": [
    "# Data augmentation + croping"
   ]
  },
  {
   "cell_type": "code",
   "execution_count": 10,
   "id": "2d1d643f-e860-429c-a40c-e7e97011e053",
   "metadata": {},
   "outputs": [],
   "source": [
    "def get_crop_coords(t, h, w, crop_size=64, num_crops=1, seed=None):\n",
    "    \"\"\"\n",
    "    Generate consistent random crop coordinates for each timestep.\n",
    "\n",
    "    Args:\n",
    "        t (int): Number of timesteps.\n",
    "        h (int): Height (latitude) of the spatial grid.\n",
    "        w (int): Width (longitude) of the spatial grid.\n",
    "        crop_size (int, optional): Size of the square crop. Default is 64.\n",
    "        num_crops (int, optional): Number of crops to generate per timestep. Default is 1.\n",
    "        seed (int or None, optional): Random seed for reproducibility. Default is None.\n",
    "\n",
    "    Returns:\n",
    "        List[Tuple[int, int, int]]: A list of (timestep_index, lat_start, lon_start) tuples\n",
    "                                    specifying the crop positions.\n",
    "    \"\"\"\n",
    "    rng = np.random.default_rng(seed) # random number generator\n",
    "    coords = []\n",
    "\n",
    "    for i in range(t): # for each timestep\n",
    "        for _ in range(num_crops): # if num_crops>1, data augmentation takes place\n",
    "            lat_start = rng.integers(0, h - crop_size + 1)\n",
    "            lon_start = rng.integers(0, w - crop_size + 1)\n",
    "            coords.append((i, lat_start, lon_start)) \n",
    "    \n",
    "    return coords\n",
    "\n",
    "def apply_crops(arr, coords, crop_size=64):\n",
    "    \"\"\"\n",
    "    Apply a list of crop coordinates to a 3D array (time, height, width).\n",
    "\n",
    "    Args:\n",
    "        arr (np.ndarray): Input array of shape (t, h, w) to crop.\n",
    "        coords (List[Tuple[int, int, int]]): List of crop coordinates \n",
    "            in the form (timestep_index, lat_start, lon_start).\n",
    "        crop_size (int, optional): Size of the square crop. Default is 64.\n",
    "\n",
    "    Returns:\n",
    "        np.ndarray: Cropped array of shape (len(coords), crop_size, crop_size).\n",
    "    \"\"\"\n",
    "    crops = []\n",
    "    # if data augmentation was performed, \n",
    "    # there will be multiple coords with the same i.\n",
    "    for i, lat_start, lon_start in coords:\n",
    "        crop = arr[i, lat_start:lat_start + crop_size, lon_start:lon_start + crop_size]\n",
    "        crops.append(crop)\n",
    "    return np.stack(crops)"
   ]
  },
  {
   "cell_type": "code",
   "execution_count": 11,
   "id": "5a95dea5-fa93-4b77-af59-026dd9ffad1c",
   "metadata": {},
   "outputs": [],
   "source": [
    "# Get crop coordinates from any one variable\n",
    "t, h, w = data[\"temp\"].shape\n",
    "crop_coords = get_crop_coords(t, h, w, crop_size=64, num_crops=3, seed=42)\n",
    "\n",
    "# Apply same crop coordinates to all variables\n",
    "for var in data:\n",
    "    arr = data[var]\n",
    "    data[var] = apply_crops(arr, crop_coords, crop_size=64)"
   ]
  },
  {
   "cell_type": "markdown",
   "id": "072f044c-a008-4a05-83d8-684b71cd48af",
   "metadata": {},
   "source": [
    "# Standardize"
   ]
  },
  {
   "cell_type": "code",
   "execution_count": 12,
   "id": "c68a23bf-7c54-43aa-b535-bb54ac6973e3",
   "metadata": {},
   "outputs": [],
   "source": [
    "scalers = {}\n",
    "train_time = 3*365 \n",
    "\n",
    "for var in ['temp', 'vx', 'vy', 'ssh']:\n",
    "    arr = data[var]  # shape: (time, 64, 64)\n",
    "    train = arr[:train_time]  # full 3 years for training\n",
    "    n, h, w = train.shape\n",
    "\n",
    "    scaler = StandardScaler()\n",
    "    scaler.fit(train.reshape(-1, 1))  # flatten for fitting.\n",
    "    scalers[var] = scaler\n",
    "\n",
    "\n",
    "for var in data:\n",
    "    arr = data[var]\n",
    "    n, h, w = arr.shape\n",
    "    # flatten to scale, then unflatten\n",
    "    data[var] = scalers[var.split('_')[0]].transform(arr.reshape(-1, 1)).reshape(n, h, w)\n",
    "\n",
    "# Save scalers to un-standardize predictions\n",
    "os.makedirs(\"scalers\", exist_ok=True)\n",
    "\n",
    "for var, scaler in scalers.items():\n",
    "    joblib.dump(scaler, f\"scalers/{var}.pkl\")"
   ]
  },
  {
   "cell_type": "markdown",
   "id": "c409db36-f38d-429c-b3d2-f441bfbb8965",
   "metadata": {},
   "source": [
    "# Split data"
   ]
  },
  {
   "cell_type": "code",
   "execution_count": 14,
   "id": "53a63131-9110-4296-b9ed-862db560a49e",
   "metadata": {},
   "outputs": [],
   "source": [
    "split_data = {}\n",
    "\n",
    "val_time = train_time + 3*365//2\n",
    "\n",
    "for var in data:\n",
    "    split_data[f\"{var}_train\"] = data[var][:train_time]\n",
    "    split_data[f\"{var}_val\"] = data[var][train_time:val_time]\n",
    "    split_data[f\"{var}_test\"] = data[var][val_time:]"
   ]
  },
  {
   "cell_type": "code",
   "execution_count": 15,
   "id": "5c16a763-c73f-45c9-b2ca-ce73f7f27899",
   "metadata": {},
   "outputs": [
    {
     "data": {
      "text/plain": [
       "(1095, 64, 64)"
      ]
     },
     "execution_count": 15,
     "metadata": {},
     "output_type": "execute_result"
    }
   ],
   "source": [
    "split_data['temp_train'].shape"
   ]
  },
  {
   "cell_type": "markdown",
   "id": "28bc485d-59a7-45e2-9ec8-0196429c568f",
   "metadata": {},
   "source": [
    "# Gaussian blur + spatial subsampling"
   ]
  },
  {
   "cell_type": "code",
   "execution_count": 16,
   "id": "5bfdc054-f8e9-4bf1-aa2a-9f456997ea0a",
   "metadata": {},
   "outputs": [],
   "source": [
    "def blur_and_downsample(arr, sigma=1.0, factor=4):\n",
    "    \"\"\"\n",
    "    Apply Gaussian blur and downsample by a factor to each 2D image.\n",
    "\n",
    "    Parameters:\n",
    "        arr: np.ndarray of shape (n, h, w)\n",
    "        sigma: float or sequence, standard deviation for Gaussian blur\n",
    "        factor: int, downsampling factor (must divide h and w evenly)\n",
    "\n",
    "    Returns:\n",
    "        low_res: np.ndarray of shape (n, h//factor, w//factor)\n",
    "    \"\"\"\n",
    "    n, h, w = arr.shape\n",
    "    assert h % factor == 0 and w % factor == 0, \"Size must be divisible by factor.\"\n",
    "\n",
    "    blurred = np.empty_like(arr)\n",
    "    for i in range(n):\n",
    "        blurred[i] = gaussian_filter(arr[i], sigma=sigma)\n",
    "\n",
    "    # Downsample by taking every `factor` pixel\n",
    "    low_res = blurred[:, ::factor, ::factor]\n",
    "    return low_res"
   ]
  },
  {
   "cell_type": "code",
   "execution_count": 17,
   "id": "9f0724f0-74eb-452c-a5c4-3ccc4ceb2302",
   "metadata": {},
   "outputs": [],
   "source": [
    "split_data_lr = {}\n",
    "\n",
    "for key, value in split_data.items():\n",
    "    split_data_lr[key] = blur_and_downsample(value, sigma=1.0, factor=4)"
   ]
  },
  {
   "cell_type": "markdown",
   "id": "aa70e78e-804d-4b49-8121-48bd71ecf1a9",
   "metadata": {},
   "source": [
    "# Save data "
   ]
  },
  {
   "cell_type": "code",
   "execution_count": 18,
   "id": "75435015-e488-4641-9b8d-6428156d0938",
   "metadata": {},
   "outputs": [],
   "source": [
    "def save_data(data, path, prefix):\n",
    "    os.makedirs(path, exist_ok=True)\n",
    "    for i in range(data.shape[0]):\n",
    "        filename = os.path.join(path, f\"{prefix}_{i}.npy\")\n",
    "        np.save(filename, data[i])"
   ]
  },
  {
   "cell_type": "code",
   "execution_count": 19,
   "id": "374eb577-1efd-407e-ab83-a7ba98c1c30b",
   "metadata": {},
   "outputs": [],
   "source": [
    "path = os.path.join(os.getcwd(), \"data\")\n",
    "\n",
    "for key, val in split_data.items():\n",
    "    var, split = key.split(\"_\")\n",
    "    save_data(val, f\"{path}/{split}/HR/{var}/\", var)\n",
    "\n",
    "for key, val in split_data_lr.items():\n",
    "    var, split = key.split(\"_\")\n",
    "    save_data(val, f\"{path}/{split}/LR/{var}/\", var)"
   ]
  },
  {
   "cell_type": "code",
   "execution_count": 20,
   "id": "60e86cd0-24a0-4613-8f14-d88ffaf5e83d",
   "metadata": {},
   "outputs": [],
   "source": [
    "np.save(f\"{path}/lat.npy\", lat)\n",
    "np.save(f\"{path}/lng.npy\", lng)"
   ]
  },
  {
   "cell_type": "markdown",
   "id": "ac355b71-979d-445e-87db-1dbea575dc43",
   "metadata": {},
   "source": [
    "# Distributions"
   ]
  },
  {
   "cell_type": "code",
   "execution_count": 21,
   "id": "94f0000d-6f99-443a-a56c-289376fd3ec7",
   "metadata": {},
   "outputs": [
    {
     "data": {
      "image/png": "[encoded data removed]",
      "text/plain": [
       "<Figure size 400x400 with 4 Axes>"
      ]
     },
     "metadata": {},
     "output_type": "display_data"
    }
   ],
   "source": [
    "temp = split_data[\"temp_train\"]\n",
    "ssh = split_data[\"ssh_train\"]\n",
    "vx = split_data[\"vx_train\"]\n",
    "vy = split_data[\"vy_train\"]\n",
    "\n",
    "fig, axs = plt.subplots(4, 1, figsize=(4, 4))\n",
    "\n",
    "axs[0].hist(vx.flatten(), bins=100)\n",
    "axs[0].set_ylabel(r\"$v_x$\", rotation=0, labelpad=30)\n",
    "axs[0].set_yticks([])\n",
    "\n",
    "axs[1].hist(vy.flatten(), bins=100)\n",
    "axs[1].set_ylabel(r\"$v_y$\", rotation=0, labelpad=30)\n",
    "axs[1].set_yticks([])\n",
    "\n",
    "axs[2].hist(ssh.flatten(), bins=100)\n",
    "axs[2].set_ylabel(\"ssh\", rotation=0, labelpad=30)\n",
    "axs[2].set_yticks([])\n",
    "\n",
    "axs[3].hist(temp.flatten(), bins=100)\n",
    "axs[3].set_ylabel(\"temp\", rotation=0, labelpad=30)\n",
    "axs[3].set_yticks([])\n",
    "\n",
    "plt.tight_layout()"
   ]
  },
  {
   "cell_type": "code",
   "execution_count": 22,
   "id": "33d8b14c-2141-4be1-a46d-03423dae2d3f",
   "metadata": {},
   "outputs": [],
   "source": [
    "# Define folder paths for training HR and LR data.\n",
    "train_hr_folder = os.path.join(os.getcwd(), \"data\", \"train\", \"HR\")\n",
    "train_lr_folder = os.path.join(os.getcwd(), \"data\", \"train\", \"LR\")\n",
    "\n",
    "# Load and combine channels for HR and LR images.\n",
    "hr_images = load_and_combine_channels(train_hr_folder, \"ssh\")\n",
    "lr_images = load_and_combine_channels(train_lr_folder, \"ssh\")"
   ]
  },
  {
   "cell_type": "code",
   "execution_count": 23,
   "id": "e961bbef-7665-4a34-9b5d-b6cf1e8a7583",
   "metadata": {},
   "outputs": [],
   "source": [
    "# Create a TensorFlow dataset.\n",
    "batch_size = 32  # Set your desired batch size\n",
    "dataset = tf.data.Dataset.from_tensor_slices((lr_images, hr_images))\n",
    "dataset = dataset.shuffle(buffer_size=1000).batch(batch_size)"
   ]
  },
  {
   "cell_type": "code",
   "execution_count": 24,
   "id": "936584e8-4e35-47d9-a938-7e07e21d2ae1",
   "metadata": {},
   "outputs": [
    {
     "data": {
      "image/png": "[encoded data removed]",
      "text/plain": [
       "<Figure size 1200x300 with 4 Axes>"
      ]
     },
     "metadata": {},
     "output_type": "display_data"
    }
   ],
   "source": [
    "for lr_batch, hr_batch in dataset.take(1):\n",
    "    # Extract the first HR image from the batch and convert to a NumPy array\n",
    "    first_hr_image = hr_batch[0].numpy()\n",
    "    img = first_hr_image[..., :3]\n",
    "    v_max = np.max(img[..., :2])\n",
    "    v_min = np.min(img[..., :2])\n",
    "    img[..., :2] = (img[..., :2] - v_min)/(v_max - v_min)\n",
    "    temp_max = np.max(img[..., -1])\n",
    "    temp_min = np.min(img[..., -1])\n",
    "    img[..., -1] = (img[..., -1] - temp_min)/(temp_max - temp_min)\n",
    "    \n",
    "    fig, axs = plt.subplots(1, 4, figsize=(12, 3))\n",
    "\n",
    "    axs[0].imshow(img[..., 0])\n",
    "    axs[0].set_title(\"v_x (R)\")\n",
    "    axs[1].imshow(img[..., 1])\n",
    "    axs[1].set_title(\"v_y (G)\")\n",
    "    axs[2].imshow(img[..., 2])\n",
    "    axs[2].set_title(\"SSH (B)\")\n",
    "    axs[3].imshow(img)\n",
    "    axs[3].set_title(\"combined image (RGB)\")"
   ]
  }
 ],
 "metadata": {
  "kernelspec": {
   "display_name": "Python 3 (ipykernel)",
   "language": "python",
   "name": "python3"
  },
  "language_info": {
   "codemirror_mode": {
    "name": "ipython",
    "version": 3
   },
   "file_extension": ".py",
   "mimetype": "text/x-python",
   "name": "python",
   "nbconvert_exporter": "python",
   "pygments_lexer": "ipython3",
   "version": "3.12.5"
  }
 },
 "nbformat": 4,
 "nbformat_minor": 5
}
