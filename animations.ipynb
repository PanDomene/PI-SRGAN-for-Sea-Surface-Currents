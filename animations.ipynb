{
 "cells": [
  {
   "cell_type": "code",
   "execution_count": 1,
   "id": "1f5d7295-c032-4491-a17e-e861c8ad9afe",
   "metadata": {},
   "outputs": [],
   "source": [
    "from SRGAN_funcs import load_and_combine_channels\n",
    "from matplotlib.animation import FuncAnimation\n",
    "import matplotlib.pyplot as plt\n",
    "import numpy as np\n",
    "import os"
   ]
  },
  {
   "cell_type": "markdown",
   "id": "b9cf39aa-41fc-4a30-9c23-364ef087a71c",
   "metadata": {},
   "source": [
    "# Velocity field"
   ]
  },
  {
   "cell_type": "code",
   "execution_count": null,
   "id": "66790b47-2dc1-4f03-85dc-f9a712d664d0",
   "metadata": {},
   "outputs": [],
   "source": [
    "lng = lng[:64]\n",
    "lat = lat[:64]\n",
    "lng_lr = lng[::4]\n",
    "lat_lr = lat[::4]"
   ]
  },
  {
   "cell_type": "code",
   "execution_count": null,
   "id": "a061be49-702c-4972-8f89-426fec5d374e",
   "metadata": {},
   "outputs": [],
   "source": [
    "T = vx.shape[0]\n",
    "X = Y = 64"
   ]
  },
  {
   "cell_type": "code",
   "execution_count": null,
   "id": "b1d5444b-795b-4279-832e-98c15d95f61e",
   "metadata": {},
   "outputs": [],
   "source": [
    "def plot_field(t, vx, vy, lng, lat, mask=None, scale=15, width=0.0025, d=2):\n",
    "    # Get velocity components at time t\n",
    "    v_x = vx[t]\n",
    "    v_y = vy[t]\n",
    "    \n",
    "    # Find speed\n",
    "    v = np.sqrt(v_x**2 + v_y**2)\n",
    "    \n",
    "    # Apply the mask if provided\n",
    "    if mask is not None:\n",
    "        v = np.ma.array(v, mask=mask)\n",
    "    \n",
    "    # Sample for plotting vectors\n",
    "    x_arrows = v_x[::d, ::d]\n",
    "    y_arrows = v_y[::d, ::d]\n",
    "    xy = np.arange(0, len(v), d)\n",
    "    \n",
    "    # Plot speed\n",
    "    plt.imshow(v, cmap='viridis', origin='lower')\n",
    "    \n",
    "    # Plot velocity field\n",
    "    plt.quiver(xy, xy, x_arrows, y_arrows, scale=scale, color='white', width=width)\n",
    "    \n",
    "    # Beautify\n",
    "    plt.colorbar(label=r'Speed = $\\sqrt{v_x^2+v_y^2}$')\n",
    "    \n",
    "    if len(lng) > 10:\n",
    "        nt = 8\n",
    "        ticks = range(0, len(v), nt)\n",
    "        x_ticks = lng[::nt].round(2)\n",
    "        y_ticks = lat[::-nt].round(2)\n",
    "    else:\n",
    "        ticks = range(0, 10, 2)\n",
    "        x_ticks = lng[::2].round(2)\n",
    "        y_ticks = lat[::2].round(2)\n",
    "    plt.xticks(ticks=ticks, labels=x_ticks, rotation=45)\n",
    "    plt.yticks(ticks=ticks, labels=y_ticks)\n",
    "    plt.xlabel('Longitude (°E)')\n",
    "    plt.ylabel('Latitude (°N)')\n",
    "    plt.title('Velocity Field')\n",
    "    plt.tight_layout()"
   ]
  },
  {
   "cell_type": "code",
   "execution_count": null,
   "id": "24e6ce43-faa0-4608-ad16-801fe9666942",
   "metadata": {},
   "outputs": [],
   "source": [
    "# Define the animation function\n",
    "def animate_v(t, vx, vy, lng, lat, mask=None):\n",
    "    plt.clf()  # Clear the current figure\n",
    "    plot_field(t, vx, vy, lng, lat, mask)"
   ]
  },
  {
   "cell_type": "code",
   "execution_count": null,
   "id": "219b1fc3-8ee5-4422-a5a9-caca4266376c",
   "metadata": {},
   "outputs": [],
   "source": [
    "os.makedirs('animations', exist_ok=True)\n",
    "\n",
    "# Create a figure\n",
    "fig = plt.figure()\n",
    "\n",
    "# Create the animation\n",
    "anim = FuncAnimation(fig, animate_v, frames=range(T), interval=150, fargs=(vx, vy, lng, lat))\n",
    "\n",
    "# Save the animation as a GIF file\n",
    "anim.save('reports/figures/animations/v_hr.gif', writer='pillow')"
   ]
  },
  {
   "cell_type": "code",
   "execution_count": null,
   "id": "47fb663c-a1c4-4a0b-af4c-8e9fe310c646",
   "metadata": {},
   "outputs": [],
   "source": [
    "# Create a figure\n",
    "fig = plt.figure()\n",
    "\n",
    "# Create the animation\n",
    "anim = FuncAnimation(fig, animate_v, frames=range(T), interval=150, fargs=(vx_lr, vy_lr, lng_lr, lat_lr))\n",
    "\n",
    "# Save the animation as a GIF file\n",
    "anim.save('reports/figures/animations/v_lr.gif', writer='pillow')"
   ]
  },
  {
   "cell_type": "markdown",
   "id": "e9fc878f-5497-41af-ba63-cededeaa1160",
   "metadata": {},
   "source": [
    "## Masks"
   ]
  },
  {
   "cell_type": "code",
   "execution_count": null,
   "id": "8fbae4e1-c704-40a8-a253-ebdcbe03bdb4",
   "metadata": {},
   "outputs": [],
   "source": [
    "# Create an empty mask of shape 23x23\n",
    "mask = np.zeros((64, 64), dtype=int)\n",
    "\n",
    "# Create a coastline on the left side\n",
    "mask[:20, :5] = 1  # Vertical coastline\n",
    "mask[20:, :3] = 1  # Vertical coastline\n",
    "mask[5:13, 5:7] = 1  # Small extension into the water\n",
    "mask[7:11, 7:8] = 1  # Small extension into the water\n",
    "# Create a coastline on the top side\n",
    "mask[:3, :18] = 1  # Horizontal coastline\n",
    "mask[3:5, 10:15] = 1  # Extension into the water\n",
    "\n",
    "# Add an island\n",
    "mask[16:22, 14:19] = 1\n",
    "mask[15:16, 15:18] = 1\n",
    "mask[17:20, 19:20] = 1\n",
    "\n",
    "# Visualize the mask\n",
    "plt.figure(figsize=[3, 3])\n",
    "plt.imshow(mask, cmap=\"Greys\", origin=\"lower\")\n",
    "plt.title(\"Land Mask\")\n",
    "plt.colorbar(label=\"1 = Data, 0 = No data\")\n",
    "plt.show()"
   ]
  },
  {
   "cell_type": "code",
   "execution_count": null,
   "id": "d7b2069f-9dca-4523-8f72-4b4aaeb26753",
   "metadata": {},
   "outputs": [],
   "source": [
    "# Create a figure\n",
    "fig = plt.figure()\n",
    "\n",
    "# Create the animation\n",
    "anim = FuncAnimation(fig, animate_v, frames=range(T), interval=150, fargs=(vx, vy, lng, lat, mask))\n",
    "\n",
    "# Save the animation as a GIF file\n",
    "anim.save('reports/figures/animations/v_masked.gif', writer='pillow')"
   ]
  }
 ],
 "metadata": {
  "kernelspec": {
   "display_name": "Python 3 (ipykernel)",
   "language": "python",
   "name": "python3"
  },
  "language_info": {
   "codemirror_mode": {
    "name": "ipython",
    "version": 3
   },
   "file_extension": ".py",
   "mimetype": "text/x-python",
   "name": "python",
   "nbconvert_exporter": "python",
   "pygments_lexer": "ipython3",
   "version": "3.12.5"
  }
 },
 "nbformat": 4,
 "nbformat_minor": 5
}
