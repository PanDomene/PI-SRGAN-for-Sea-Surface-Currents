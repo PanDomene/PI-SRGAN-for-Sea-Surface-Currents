{
 "cells": [
  {
   "cell_type": "code",
   "execution_count": 2,
   "id": "5dd30a3e-ac4c-4b8d-b530-dafef40ff8de",
   "metadata": {},
   "outputs": [],
   "source": [
    "import pandas as pd\n",
    "import seaborn as sns\n",
    "import matplotlib.pyplot as plt"
   ]
  },
  {
   "cell_type": "code",
   "execution_count": 3,
   "id": "c37aa88c-c45c-49cd-92bb-35804e687a20",
   "metadata": {},
   "outputs": [
    {
     "name": "stdout",
     "output_type": "stream",
     "text": [
      "<class 'pandas.core.frame.DataFrame'>\n",
      "RangeIndex: 78 entries, 0 to 77\n",
      "Data columns (total 7 columns):\n",
      " #   Column        Non-Null Count  Dtype  \n",
      "---  ------        --------------  -----  \n",
      " 0   Modelo        78 non-null     object \n",
      " 1   Modificación  78 non-null     object \n",
      " 2   Checkpoint    78 non-null     object \n",
      " 3   Dataset       78 non-null     object \n",
      " 4   Campo         78 non-null     object \n",
      " 5   SSIM          78 non-null     float64\n",
      " 6   RMSE          78 non-null     float64\n",
      "dtypes: float64(2), object(5)\n",
      "memory usage: 4.4+ KB\n"
     ]
    }
   ],
   "source": [
    "data = pd.read_excel(\"Results.xlsx\")\n",
    "data.fillna(\"None\", inplace=True)\n",
    "data.info()"
   ]
  },
  {
   "cell_type": "code",
   "execution_count": 4,
   "id": "1602a154-af40-405a-8772-36c4778cfa54",
   "metadata": {},
   "outputs": [
    {
     "data": {
      "text/html": [
       "<div>\n",
       "<style scoped>\n",
       "    .dataframe tbody tr th:only-of-type {\n",
       "        vertical-align: middle;\n",
       "    }\n",
       "\n",
       "    .dataframe tbody tr th {\n",
       "        vertical-align: top;\n",
       "    }\n",
       "\n",
       "    .dataframe thead th {\n",
       "        text-align: right;\n",
       "    }\n",
       "</style>\n",
       "<table border=\"1\" class=\"dataframe\">\n",
       "  <thead>\n",
       "    <tr style=\"text-align: right;\">\n",
       "      <th></th>\n",
       "      <th>Modelo</th>\n",
       "      <th>Modificación</th>\n",
       "      <th>Checkpoint</th>\n",
       "      <th>Dataset</th>\n",
       "      <th>Campo</th>\n",
       "      <th>SSIM</th>\n",
       "      <th>RMSE</th>\n",
       "    </tr>\n",
       "  </thead>\n",
       "  <tbody>\n",
       "    <tr>\n",
       "      <th>0</th>\n",
       "      <td>Interpolación Bicúbica</td>\n",
       "      <td>None</td>\n",
       "      <td>None</td>\n",
       "      <td>Test</td>\n",
       "      <td>RGB</td>\n",
       "      <td>0.744139</td>\n",
       "      <td>0.074602</td>\n",
       "    </tr>\n",
       "    <tr>\n",
       "      <th>1</th>\n",
       "      <td>Interpolación Bicúbica</td>\n",
       "      <td>None</td>\n",
       "      <td>None</td>\n",
       "      <td>Test</td>\n",
       "      <td>Speed</td>\n",
       "      <td>0.648399</td>\n",
       "      <td>0.092552</td>\n",
       "    </tr>\n",
       "    <tr>\n",
       "      <th>2</th>\n",
       "      <td>Interpolación Bicúbica</td>\n",
       "      <td>None</td>\n",
       "      <td>None</td>\n",
       "      <td>Train</td>\n",
       "      <td>RGB</td>\n",
       "      <td>0.734426</td>\n",
       "      <td>0.075538</td>\n",
       "    </tr>\n",
       "    <tr>\n",
       "      <th>3</th>\n",
       "      <td>Interpolación Bicúbica</td>\n",
       "      <td>None</td>\n",
       "      <td>None</td>\n",
       "      <td>Train</td>\n",
       "      <td>Speed</td>\n",
       "      <td>0.645813</td>\n",
       "      <td>0.097089</td>\n",
       "    </tr>\n",
       "    <tr>\n",
       "      <th>4</th>\n",
       "      <td>Interpolación Bicúbica</td>\n",
       "      <td>None</td>\n",
       "      <td>None</td>\n",
       "      <td>Validation</td>\n",
       "      <td>RGB</td>\n",
       "      <td>0.771972</td>\n",
       "      <td>0.071416</td>\n",
       "    </tr>\n",
       "  </tbody>\n",
       "</table>\n",
       "</div>"
      ],
      "text/plain": [
       "                   Modelo Modificación Checkpoint     Dataset  Campo  \\\n",
       "0  Interpolación Bicúbica         None       None        Test    RGB   \n",
       "1  Interpolación Bicúbica         None       None        Test  Speed   \n",
       "2  Interpolación Bicúbica         None       None       Train    RGB   \n",
       "3  Interpolación Bicúbica         None       None       Train  Speed   \n",
       "4  Interpolación Bicúbica         None       None  Validation    RGB   \n",
       "\n",
       "       SSIM      RMSE  \n",
       "0  0.744139  0.074602  \n",
       "1  0.648399  0.092552  \n",
       "2  0.734426  0.075538  \n",
       "3  0.645813  0.097089  \n",
       "4  0.771972  0.071416  "
      ]
     },
     "execution_count": 4,
     "metadata": {},
     "output_type": "execute_result"
    }
   ],
   "source": [
    "data.head()"
   ]
  },
  {
   "cell_type": "code",
   "execution_count": null,
   "id": "f0b5cbaa-3f37-487c-9b25-35f503ca524c",
   "metadata": {},
   "outputs": [],
   "source": []
  },
  {
   "cell_type": "code",
   "execution_count": null,
   "id": "9f9e07d4-564e-4f5a-b906-e40fdc7a3984",
   "metadata": {},
   "outputs": [],
   "source": []
  }
 ],
 "metadata": {
  "kernelspec": {
   "display_name": "Python 3 (ipykernel)",
   "language": "python",
   "name": "python3"
  },
  "language_info": {
   "codemirror_mode": {
    "name": "ipython",
    "version": 3
   },
   "file_extension": ".py",
   "mimetype": "text/x-python",
   "name": "python",
   "nbconvert_exporter": "python",
   "pygments_lexer": "ipython3",
   "version": "3.12.5"
  }
 },
 "nbformat": 4,
 "nbformat_minor": 5
}
